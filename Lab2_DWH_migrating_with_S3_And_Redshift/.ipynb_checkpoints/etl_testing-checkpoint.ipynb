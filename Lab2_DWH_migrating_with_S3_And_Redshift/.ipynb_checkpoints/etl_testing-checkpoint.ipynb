{
 "cells": [
  {
   "cell_type": "code",
   "execution_count": 5,
   "metadata": {},
   "outputs": [
    {
     "name": "stdout",
     "output_type": "stream",
     "text": [
      "Connected to AWS Redshift\n",
      "\n",
      "Running query: staging_events_count\n",
      "Result for staging_events_count: 8056\n",
      "\n",
      "Running query: staging_songs_count\n",
      "Result for staging_songs_count: 14896\n",
      "\n",
      "Running query: songplays_count\n",
      "Result for songplays_count: 324\n",
      "\n",
      "Running query: users_count\n",
      "Result for users_count: 104\n",
      "\n",
      "Running query: songs_count\n",
      "Result for songs_count: 14896\n",
      "\n",
      "Running query: artists_count\n",
      "Result for artists_count: 14896\n",
      "\n",
      "Running query: time_count\n",
      "Result for time_count: 8023\n"
     ]
    }
   ],
   "source": [
    "import configparser\n",
    "import psycopg2\n",
    "\n",
    "def get_tables_rows(cur):\n",
    "    \"\"\"\n",
    "    Executes analytical queries to get the number of rows in each table.\n",
    "    \"\"\"\n",
    "    select_number_rows_queries = {\n",
    "        'staging_events_count': \"SELECT COUNT(*) FROM staging_events\",\n",
    "        'staging_songs_count': \"SELECT COUNT(*) FROM staging_songs\",\n",
    "        'songplays_count': \"SELECT COUNT(*) FROM songplay_table\",\n",
    "        'users_count': \"SELECT COUNT(*) FROM user_table\",\n",
    "        'songs_count': \"SELECT COUNT(*) FROM song_table\",\n",
    "        'artists_count': \"SELECT COUNT(*) FROM song_table\",\n",
    "        'time_count': \"SELECT COUNT(*) FROM time_table\"\n",
    "    }\n",
    "    \n",
    "    for query_name, query in select_number_rows_queries.items():\n",
    "        print(f'\\nRunning query: {query_name}')\n",
    "        cur.execute(query)\n",
    "        results = cur.fetchone()\n",
    "        print(f'Result for {query_name}: {results[0]}')\n",
    "\n",
    "def main():\n",
    "    \"\"\"\n",
    "    Connects to Redshift and runs the analytical queries.\n",
    "    \"\"\"\n",
    "    config = configparser.ConfigParser()\n",
    "    config.read('dwh.cfg')\n",
    "    \n",
    "    conn = psycopg2.connect(\"host={} dbname={} user={} password={} port={}\".format(*config['CLUSTER'].values()))\n",
    "    print('Connected to AWS Redshift')\n",
    "    cur = conn.cursor()\n",
    "\n",
    "    get_tables_rows(cur)\n",
    "\n",
    "    conn.close()\n",
    "\n",
    "if __name__ == \"__main__\":\n",
    "    main()\n"
   ]
  },
  {
   "cell_type": "code",
   "execution_count": null,
   "metadata": {},
   "outputs": [],
   "source": []
  }
 ],
 "metadata": {
  "kernelspec": {
   "display_name": "Python 3",
   "language": "python",
   "name": "python3"
  },
  "language_info": {
   "codemirror_mode": {
    "name": "ipython",
    "version": 3
   },
   "file_extension": ".py",
   "mimetype": "text/x-python",
   "name": "python",
   "nbconvert_exporter": "python",
   "pygments_lexer": "ipython3",
   "version": "3.6.3"
  }
 },
 "nbformat": 4,
 "nbformat_minor": 2
}
